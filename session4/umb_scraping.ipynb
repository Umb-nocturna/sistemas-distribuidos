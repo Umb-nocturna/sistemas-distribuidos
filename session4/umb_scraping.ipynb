{
  "nbformat": 4,
  "nbformat_minor": 0,
  "metadata": {
    "colab": {
      "provenance": [],
      "collapsed_sections": [
        "t758BLtoVv-l"
      ]
    },
    "kernelspec": {
      "name": "python3",
      "display_name": "Python 3"
    },
    "language_info": {
      "name": "python"
    }
  },
  "cells": [
    {
      "cell_type": "markdown",
      "source": [
        "## Step 1: Inslación de librerias"
      ],
      "metadata": {
        "id": "AbBKAghQVQd6"
      }
    },
    {
      "cell_type": "code",
      "execution_count": null,
      "metadata": {
        "colab": {
          "base_uri": "https://localhost:8080/"
        },
        "id": "1UpCBJjCE9wJ",
        "outputId": "4df86b7c-664d-4db4-8390-3a48217c9fc7"
      },
      "outputs": [
        {
          "output_type": "stream",
          "name": "stdout",
          "text": [
            "Requirement already satisfied: beautifulsoup4 in /usr/local/lib/python3.10/dist-packages (4.11.2)\n",
            "Requirement already satisfied: soupsieve>1.2 in /usr/local/lib/python3.10/dist-packages (from beautifulsoup4) (2.4.1)\n",
            "Requirement already satisfied: requests in /usr/local/lib/python3.10/dist-packages (2.31.0)\n",
            "Requirement already satisfied: charset-normalizer<4,>=2 in /usr/local/lib/python3.10/dist-packages (from requests) (3.2.0)\n",
            "Requirement already satisfied: idna<4,>=2.5 in /usr/local/lib/python3.10/dist-packages (from requests) (3.4)\n",
            "Requirement already satisfied: urllib3<3,>=1.21.1 in /usr/local/lib/python3.10/dist-packages (from requests) (2.0.4)\n",
            "Requirement already satisfied: certifi>=2017.4.17 in /usr/local/lib/python3.10/dist-packages (from requests) (2023.7.22)\n",
            "Requirement already satisfied: tqdm in /usr/local/lib/python3.10/dist-packages (4.66.1)\n"
          ]
        }
      ],
      "source": [
        "#install\n",
        "!pip install beautifulsoup4\n",
        "!pip install requests\n",
        "!pip install tqdm"
      ]
    },
    {
      "cell_type": "code",
      "source": [
        "from urllib.request import Request, urlopen\n",
        "from bs4 import BeautifulSoup as soup\n",
        "import requests\n",
        "from tqdm import tqdm\n",
        "import pandas as pd\n",
        "from google.colab import drive"
      ],
      "metadata": {
        "id": "yZLT_DiOFLU7"
      },
      "execution_count": null,
      "outputs": []
    },
    {
      "cell_type": "markdown",
      "source": [],
      "metadata": {
        "id": "-pR_UP64Wro1"
      }
    },
    {
      "cell_type": "markdown",
      "source": [
        "## Step 2: Extraccion de Datos / Scraping"
      ],
      "metadata": {
        "id": "aoukVN_kVbOE"
      }
    },
    {
      "cell_type": "code",
      "source": [
        "url = \"https://umb.edu.co/noticias/\""
      ],
      "metadata": {
        "id": "frHTVs50FehD"
      },
      "execution_count": null,
      "outputs": []
    },
    {
      "cell_type": "code",
      "source": [
        "#Sin agent\n",
        "req = requests.get(url)\n",
        "webpage = req.text\n",
        "soup_page = soup(webpage)"
      ],
      "metadata": {
        "id": "yVjWTGRIRU7g"
      },
      "execution_count": null,
      "outputs": []
    },
    {
      "cell_type": "code",
      "source": [
        "#Usando Agent\n",
        "req = Request(url, headers={'User-Agent': 'Mozilla/5.0'})\n",
        "webpage = urlopen(req).read()\n",
        "soup_page = soup(webpage,\"html.parser\")"
      ],
      "metadata": {
        "id": "lc4tb4uaRG4s"
      },
      "execution_count": null,
      "outputs": []
    },
    {
      "cell_type": "code",
      "source": [
        "print(soup_page)"
      ],
      "metadata": {
        "id": "0YpcER7TGGQk"
      },
      "execution_count": null,
      "outputs": []
    },
    {
      "cell_type": "code",
      "source": [
        "contenedor = soup_page.find(id=\"posts-container\")\n",
        "print(contenedor)"
      ],
      "metadata": {
        "id": "-3akAMcbSC76"
      },
      "execution_count": null,
      "outputs": []
    },
    {
      "cell_type": "code",
      "source": [
        "titles = []\n",
        "links = []\n",
        "for row in tqdm(contenedor.findAll('article')):\n",
        "  title = row.findAll('h2')[0].text\n",
        "  link = row.find_all('a')[0].get(\"href\")\n",
        "  titles.append(title)\n",
        "  links.append(link)"
      ],
      "metadata": {
        "id": "kK_Wr90VF5ZP",
        "colab": {
          "base_uri": "https://localhost:8080/"
        },
        "outputId": "4256d8cc-9ead-4002-f814-d8f398bca916"
      },
      "execution_count": null,
      "outputs": [
        {
          "output_type": "stream",
          "name": "stderr",
          "text": [
            "100%|██████████| 10/10 [00:00<00:00, 4723.85it/s]\n"
          ]
        }
      ]
    },
    {
      "cell_type": "code",
      "source": [
        "print(titles)\n",
        "print(links)"
      ],
      "metadata": {
        "id": "N4rJFLt-TXPJ",
        "colab": {
          "base_uri": "https://localhost:8080/"
        },
        "outputId": "4c965074-31cc-4bdc-8a64-c5a0c1b32fc9"
      },
      "execution_count": null,
      "outputs": [
        {
          "output_type": "stream",
          "name": "stdout",
          "text": [
            "['Próximamente la película de nuestro docente, Carlos López, en las salas de cine del país', 'Estudio de la UMB señala que las mujeres no usan minifalda por miedo al acoso', 'Estudioso de Cine y TV fue recibido por la reina Leticia Ortiz de España tras ganar beca', 'La UMB dentro de las 200 mejores universidades de A. L. según ranking Times Higher Education.', 'Explicaciones en Psicología: Un dialogo de saberes, lanzamiento nuevo libro de la Editorial', 'Conoce a los ganadores del Mejor Invento que sirve para nada 2023-1', 'Reconocimiento Mis Mejores Profes 2023-1', 'Cierre de semestre ¡La U en tu Colegio!', 'Así se desarrolló la edición XXVI de Planeta Verde', '¡Conoce a los 20 finalistas del Mejor Invento que Sirve para Nada!']\n",
            "['https://umb.edu.co/proximamente-pelicula-de-nuestro-docente-carlos-lopez-en-las-salas-de-cine-del-pais/', 'https://umb.edu.co/estudio-de-la-umb-senala-que-las-mujeres-no-usan-minifalda-por-miedo-al-acoso/', 'https://umb.edu.co/estudioso-de-cine-y-tv-es-recibido-por-la-reina-leticia-ortiz-de-espana-tras-ganar-beca/', 'https://umb.edu.co/la-umb-dentro-de-las-200-mejores-universidades-de-america-latina-segun-ranking-times-higher-education-2023/', 'https://umb.edu.co/explicaciones-en-psicologia-un-dialogo-de-saberes-lanzamiento-de-nuevo-libro-de-la-editorial-umb/', 'https://umb.edu.co/conoce-a-los-ganadores-del-mejor-intento-que-sirve-para-nada-2023-1/', 'https://umb.edu.co/reconocimiento-mis-mejores-profes-2023/', 'https://umb.edu.co/cierre-de-semestre-la-u-en-tu-colegio/', 'https://umb.edu.co/asi-se-desarrollo-la-edicion-xxvi-de-planeta-verde/', 'https://umb.edu.co/conoce-a-los-20-finalistas-del-mejor-invento-que-sirve-para-nada/']\n"
          ]
        }
      ]
    },
    {
      "cell_type": "markdown",
      "source": [
        "## Step 3: Captura de información en una estructura de datos (DF)"
      ],
      "metadata": {
        "id": "t758BLtoVv-l"
      }
    },
    {
      "cell_type": "code",
      "source": [
        "df = pd.DataFrame(list(zip(titles, links)),\n",
        "                  columns =['Title', 'Link'])\n",
        "df = df.reset_index(drop=True)"
      ],
      "metadata": {
        "id": "mFwHYFMgU0Cd"
      },
      "execution_count": null,
      "outputs": []
    },
    {
      "cell_type": "code",
      "source": [
        "df.head()"
      ],
      "metadata": {
        "id": "UdlHFbFfU_zi",
        "colab": {
          "base_uri": "https://localhost:8080/",
          "height": 206
        },
        "outputId": "b36075fd-c827-4793-c94e-dddbc046c5d8"
      },
      "execution_count": null,
      "outputs": [
        {
          "output_type": "execute_result",
          "data": {
            "text/plain": [
              "                                               Title  \\\n",
              "0  Próximamente la película de nuestro docente, C...   \n",
              "1  Estudio de la UMB señala que las mujeres no us...   \n",
              "2  Estudioso de Cine y TV fue recibido por la rei...   \n",
              "3  La UMB dentro de las 200 mejores universidades...   \n",
              "4  Explicaciones en Psicología: Un dialogo de sab...   \n",
              "\n",
              "                                                Link  \n",
              "0  https://umb.edu.co/proximamente-pelicula-de-nu...  \n",
              "1  https://umb.edu.co/estudio-de-la-umb-senala-qu...  \n",
              "2  https://umb.edu.co/estudioso-de-cine-y-tv-es-r...  \n",
              "3  https://umb.edu.co/la-umb-dentro-de-las-200-me...  \n",
              "4  https://umb.edu.co/explicaciones-en-psicologia...  "
            ],
            "text/html": [
              "\n",
              "  <div id=\"df-47b1b32d-7e86-4592-af39-a7a71e397601\" class=\"colab-df-container\">\n",
              "    <div>\n",
              "<style scoped>\n",
              "    .dataframe tbody tr th:only-of-type {\n",
              "        vertical-align: middle;\n",
              "    }\n",
              "\n",
              "    .dataframe tbody tr th {\n",
              "        vertical-align: top;\n",
              "    }\n",
              "\n",
              "    .dataframe thead th {\n",
              "        text-align: right;\n",
              "    }\n",
              "</style>\n",
              "<table border=\"1\" class=\"dataframe\">\n",
              "  <thead>\n",
              "    <tr style=\"text-align: right;\">\n",
              "      <th></th>\n",
              "      <th>Title</th>\n",
              "      <th>Link</th>\n",
              "    </tr>\n",
              "  </thead>\n",
              "  <tbody>\n",
              "    <tr>\n",
              "      <th>0</th>\n",
              "      <td>Próximamente la película de nuestro docente, C...</td>\n",
              "      <td>https://umb.edu.co/proximamente-pelicula-de-nu...</td>\n",
              "    </tr>\n",
              "    <tr>\n",
              "      <th>1</th>\n",
              "      <td>Estudio de la UMB señala que las mujeres no us...</td>\n",
              "      <td>https://umb.edu.co/estudio-de-la-umb-senala-qu...</td>\n",
              "    </tr>\n",
              "    <tr>\n",
              "      <th>2</th>\n",
              "      <td>Estudioso de Cine y TV fue recibido por la rei...</td>\n",
              "      <td>https://umb.edu.co/estudioso-de-cine-y-tv-es-r...</td>\n",
              "    </tr>\n",
              "    <tr>\n",
              "      <th>3</th>\n",
              "      <td>La UMB dentro de las 200 mejores universidades...</td>\n",
              "      <td>https://umb.edu.co/la-umb-dentro-de-las-200-me...</td>\n",
              "    </tr>\n",
              "    <tr>\n",
              "      <th>4</th>\n",
              "      <td>Explicaciones en Psicología: Un dialogo de sab...</td>\n",
              "      <td>https://umb.edu.co/explicaciones-en-psicologia...</td>\n",
              "    </tr>\n",
              "  </tbody>\n",
              "</table>\n",
              "</div>\n",
              "    <div class=\"colab-df-buttons\">\n",
              "\n",
              "  <div class=\"colab-df-container\">\n",
              "    <button class=\"colab-df-convert\" onclick=\"convertToInteractive('df-47b1b32d-7e86-4592-af39-a7a71e397601')\"\n",
              "            title=\"Convert this dataframe to an interactive table.\"\n",
              "            style=\"display:none;\">\n",
              "\n",
              "  <svg xmlns=\"http://www.w3.org/2000/svg\" height=\"24px\" viewBox=\"0 -960 960 960\">\n",
              "    <path d=\"M120-120v-720h720v720H120Zm60-500h600v-160H180v160Zm220 220h160v-160H400v160Zm0 220h160v-160H400v160ZM180-400h160v-160H180v160Zm440 0h160v-160H620v160ZM180-180h160v-160H180v160Zm440 0h160v-160H620v160Z\"/>\n",
              "  </svg>\n",
              "    </button>\n",
              "\n",
              "  <style>\n",
              "    .colab-df-container {\n",
              "      display:flex;\n",
              "      gap: 12px;\n",
              "    }\n",
              "\n",
              "    .colab-df-convert {\n",
              "      background-color: #E8F0FE;\n",
              "      border: none;\n",
              "      border-radius: 50%;\n",
              "      cursor: pointer;\n",
              "      display: none;\n",
              "      fill: #1967D2;\n",
              "      height: 32px;\n",
              "      padding: 0 0 0 0;\n",
              "      width: 32px;\n",
              "    }\n",
              "\n",
              "    .colab-df-convert:hover {\n",
              "      background-color: #E2EBFA;\n",
              "      box-shadow: 0px 1px 2px rgba(60, 64, 67, 0.3), 0px 1px 3px 1px rgba(60, 64, 67, 0.15);\n",
              "      fill: #174EA6;\n",
              "    }\n",
              "\n",
              "    .colab-df-buttons div {\n",
              "      margin-bottom: 4px;\n",
              "    }\n",
              "\n",
              "    [theme=dark] .colab-df-convert {\n",
              "      background-color: #3B4455;\n",
              "      fill: #D2E3FC;\n",
              "    }\n",
              "\n",
              "    [theme=dark] .colab-df-convert:hover {\n",
              "      background-color: #434B5C;\n",
              "      box-shadow: 0px 1px 3px 1px rgba(0, 0, 0, 0.15);\n",
              "      filter: drop-shadow(0px 1px 2px rgba(0, 0, 0, 0.3));\n",
              "      fill: #FFFFFF;\n",
              "    }\n",
              "  </style>\n",
              "\n",
              "    <script>\n",
              "      const buttonEl =\n",
              "        document.querySelector('#df-47b1b32d-7e86-4592-af39-a7a71e397601 button.colab-df-convert');\n",
              "      buttonEl.style.display =\n",
              "        google.colab.kernel.accessAllowed ? 'block' : 'none';\n",
              "\n",
              "      async function convertToInteractive(key) {\n",
              "        const element = document.querySelector('#df-47b1b32d-7e86-4592-af39-a7a71e397601');\n",
              "        const dataTable =\n",
              "          await google.colab.kernel.invokeFunction('convertToInteractive',\n",
              "                                                    [key], {});\n",
              "        if (!dataTable) return;\n",
              "\n",
              "        const docLinkHtml = 'Like what you see? Visit the ' +\n",
              "          '<a target=\"_blank\" href=https://colab.research.google.com/notebooks/data_table.ipynb>data table notebook</a>'\n",
              "          + ' to learn more about interactive tables.';\n",
              "        element.innerHTML = '';\n",
              "        dataTable['output_type'] = 'display_data';\n",
              "        await google.colab.output.renderOutput(dataTable, element);\n",
              "        const docLink = document.createElement('div');\n",
              "        docLink.innerHTML = docLinkHtml;\n",
              "        element.appendChild(docLink);\n",
              "      }\n",
              "    </script>\n",
              "  </div>\n",
              "\n",
              "\n",
              "<div id=\"df-bb88e01d-8289-4eb3-b326-750741db659c\">\n",
              "  <button class=\"colab-df-quickchart\" onclick=\"quickchart('df-bb88e01d-8289-4eb3-b326-750741db659c')\"\n",
              "            title=\"Suggest charts.\"\n",
              "            style=\"display:none;\">\n",
              "\n",
              "<svg xmlns=\"http://www.w3.org/2000/svg\" height=\"24px\"viewBox=\"0 0 24 24\"\n",
              "     width=\"24px\">\n",
              "    <g>\n",
              "        <path d=\"M19 3H5c-1.1 0-2 .9-2 2v14c0 1.1.9 2 2 2h14c1.1 0 2-.9 2-2V5c0-1.1-.9-2-2-2zM9 17H7v-7h2v7zm4 0h-2V7h2v10zm4 0h-2v-4h2v4z\"/>\n",
              "    </g>\n",
              "</svg>\n",
              "  </button>\n",
              "\n",
              "<style>\n",
              "  .colab-df-quickchart {\n",
              "    background-color: #E8F0FE;\n",
              "    border: none;\n",
              "    border-radius: 50%;\n",
              "    cursor: pointer;\n",
              "    display: none;\n",
              "    fill: #1967D2;\n",
              "    height: 32px;\n",
              "    padding: 0 0 0 0;\n",
              "    width: 32px;\n",
              "  }\n",
              "\n",
              "  .colab-df-quickchart:hover {\n",
              "    background-color: #E2EBFA;\n",
              "    box-shadow: 0px 1px 2px rgba(60, 64, 67, 0.3), 0px 1px 3px 1px rgba(60, 64, 67, 0.15);\n",
              "    fill: #174EA6;\n",
              "  }\n",
              "\n",
              "  [theme=dark] .colab-df-quickchart {\n",
              "    background-color: #3B4455;\n",
              "    fill: #D2E3FC;\n",
              "  }\n",
              "\n",
              "  [theme=dark] .colab-df-quickchart:hover {\n",
              "    background-color: #434B5C;\n",
              "    box-shadow: 0px 1px 3px 1px rgba(0, 0, 0, 0.15);\n",
              "    filter: drop-shadow(0px 1px 2px rgba(0, 0, 0, 0.3));\n",
              "    fill: #FFFFFF;\n",
              "  }\n",
              "</style>\n",
              "\n",
              "  <script>\n",
              "    async function quickchart(key) {\n",
              "      const charts = await google.colab.kernel.invokeFunction(\n",
              "          'suggestCharts', [key], {});\n",
              "    }\n",
              "    (() => {\n",
              "      let quickchartButtonEl =\n",
              "        document.querySelector('#df-bb88e01d-8289-4eb3-b326-750741db659c button');\n",
              "      quickchartButtonEl.style.display =\n",
              "        google.colab.kernel.accessAllowed ? 'block' : 'none';\n",
              "    })();\n",
              "  </script>\n",
              "</div>\n",
              "    </div>\n",
              "  </div>\n"
            ]
          },
          "metadata": {},
          "execution_count": 60
        }
      ]
    },
    {
      "cell_type": "markdown",
      "source": [
        "## Step 4: Exportacion a un archivo normal"
      ],
      "metadata": {
        "id": "12gM9sTwV8GL"
      }
    },
    {
      "cell_type": "code",
      "source": [
        "drive.mount('/content/drive')\n",
        "df.to_csv('/content/drive/My Drive/UMB/scraping/articles2.csv', index=False)"
      ],
      "metadata": {
        "colab": {
          "base_uri": "https://localhost:8080/"
        },
        "id": "39y7be8iWA3Z",
        "outputId": "084f8678-2298-4cc3-beb7-59deac361513"
      },
      "execution_count": null,
      "outputs": [
        {
          "output_type": "stream",
          "name": "stdout",
          "text": [
            "Drive already mounted at /content/drive; to attempt to forcibly remount, call drive.mount(\"/content/drive\", force_remount=True).\n"
          ]
        }
      ]
    },
    {
      "cell_type": "markdown",
      "source": [],
      "metadata": {
        "id": "L5MuwFoGVO1y"
      }
    }
  ]
}