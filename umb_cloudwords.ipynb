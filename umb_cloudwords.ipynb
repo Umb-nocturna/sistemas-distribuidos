{
  "nbformat": 4,
  "nbformat_minor": 0,
  "metadata": {
    "colab": {
      "provenance": []
    },
    "kernelspec": {
      "name": "python3",
      "display_name": "Python 3"
    },
    "language_info": {
      "name": "python"
    }
  },
  "cells": [
    {
      "cell_type": "markdown",
      "source": [
        "## 1. Instalar **librerias**"
      ],
      "metadata": {
        "id": "cUSeRYOUcsSI"
      }
    },
    {
      "cell_type": "code",
      "source": [
        "import numpy as np  # useful for many scientific computing in Python\n",
        "import pandas as pd # primary data structure library\n",
        "from PIL import Image # converting images into arrays\n",
        "import matplotlib.pyplot as plt\n",
        "import seaborn as sns\n",
        "\n",
        "%matplotlib inline"
      ],
      "metadata": {
        "id": "Z8bcRTpcbXqQ"
      },
      "execution_count": 1,
      "outputs": []
    },
    {
      "cell_type": "code",
      "source": [
        "# install wordcloud\n",
        "!pip install wordcloud"
      ],
      "metadata": {
        "id": "6dLsje19bcMB"
      },
      "execution_count": null,
      "outputs": []
    },
    {
      "cell_type": "markdown",
      "source": [
        "## 2. Libreria para el Word cloud"
      ],
      "metadata": {
        "id": "5S-pq_8CdD7J"
      }
    },
    {
      "cell_type": "code",
      "source": [
        "from wordcloud import WordCloud, STOPWORDS"
      ],
      "metadata": {
        "id": "w9CW1351blWf"
      },
      "execution_count": 3,
      "outputs": []
    },
    {
      "cell_type": "code",
      "source": [
        "# download file and save as alice_novel.txt\n",
        "!wget --quiet https://s3-api.us-geo.objectstorage.softlayer.net/cf-courses-data/CognitiveClass/DV0101EN/labs/Data_Files/alice_novel.txt\n",
        "\n",
        "# open the file and read it into a variable alice_novel\n",
        "alice_novel = open('alice_novel.txt', 'r').read()\n",
        "\n",
        "print ('File downloaded and saved!')"
      ],
      "metadata": {
        "colab": {
          "base_uri": "https://localhost:8080/"
        },
        "id": "vzufZkcNbvgc",
        "outputId": "571ac3e6-6f54-4c5d-b068-817370f5890d"
      },
      "execution_count": 4,
      "outputs": [
        {
          "output_type": "stream",
          "name": "stdout",
          "text": [
            "File downloaded and saved!\n"
          ]
        }
      ]
    },
    {
      "cell_type": "code",
      "source": [
        "stopwords = set(STOPWORDS)"
      ],
      "metadata": {
        "id": "FDSxstdbb_JK"
      },
      "execution_count": 5,
      "outputs": []
    },
    {
      "cell_type": "code",
      "source": [
        "# instantiate a word cloud object\n",
        "alice_wc = WordCloud(\n",
        "    background_color='white',\n",
        "    max_words=2000,\n",
        "    stopwords=stopwords\n",
        ")\n",
        "\n",
        "# generate the word cloud\n",
        "alice_wc.generate(alice_novel)"
      ],
      "metadata": {
        "colab": {
          "base_uri": "https://localhost:8080/"
        },
        "id": "DjF0S3kvcCW7",
        "outputId": "dc0f0e6f-04e2-4c26-d6a2-112705c7a70a"
      },
      "execution_count": 6,
      "outputs": [
        {
          "output_type": "execute_result",
          "data": {
            "text/plain": [
              "<wordcloud.wordcloud.WordCloud at 0x7b6c236756c0>"
            ]
          },
          "metadata": {},
          "execution_count": 6
        }
      ]
    },
    {
      "cell_type": "code",
      "source": [
        "# display the word cloud\n",
        "plt.imshow(alice_wc, interpolation='bilinear')\n",
        "plt.axis('off')\n",
        "plt.show()"
      ],
      "metadata": {
        "id": "QE66nlUHcG_a"
      },
      "execution_count": null,
      "outputs": []
    },
    {
      "cell_type": "code",
      "source": [
        "from google.colab import drive\n",
        "\n",
        "\n",
        "drive.mount('/content/drive', force_remount=True)\n",
        "#plt.savefig(\"/content/drive/My Drive/UMB/scraping/Ejemplo1.jpg\")\n",
        "image = np.random.randn(100,100)\n",
        "plt.imsave('/content/drive/My Drive/UMB/new_1.png',image)"
      ],
      "metadata": {
        "colab": {
          "base_uri": "https://localhost:8080/"
        },
        "id": "Pnt1k_IDd2bs",
        "outputId": "c0a9a7a6-c539-403e-94ab-03ad8080d381"
      },
      "execution_count": 17,
      "outputs": [
        {
          "output_type": "stream",
          "name": "stdout",
          "text": [
            "Mounted at /content/drive\n"
          ]
        }
      ]
    },
    {
      "cell_type": "markdown",
      "source": [],
      "metadata": {
        "id": "M8xp2Q01bvQJ"
      }
    },
    {
      "cell_type": "code",
      "source": [
        "fig = plt.figure()\n",
        "fig.set_figwidth(14) # set width\n",
        "fig.set_figheight(18) # set height\n",
        "\n",
        "# display the cloud\n",
        "plt.imshow(alice_wc, interpolation='bilinear')\n",
        "plt.axis('off')\n",
        "plt.show()"
      ],
      "metadata": {
        "id": "WTXTfb5hcP_f"
      },
      "execution_count": null,
      "outputs": []
    },
    {
      "cell_type": "markdown",
      "source": [],
      "metadata": {
        "id": "zkuXCtBfb-s5"
      }
    }
  ]
}